{
 "cells": [
  {
   "cell_type": "code",
   "execution_count": 72,
   "metadata": {
    "ExecuteTime": {
     "end_time": "2017-07-18T09:47:11.284633Z",
     "start_time": "2017-07-18T09:47:11.258567Z"
    },
    "run_control": {
     "marked": true
    }
   },
   "outputs": [],
   "source": [
    "import os\n",
    "import glob\n",
    "import collections\n",
    "import pandas as pd\n",
    "\n",
    "from python_utils import fix_python2, ipynb_to_code, extract_imports\n",
    "from extract_repos import repo_to_df"
   ]
  },
  {
   "cell_type": "code",
   "execution_count": 69,
   "metadata": {
    "ExecuteTime": {
     "end_time": "2017-07-18T09:46:27.502555Z",
     "start_time": "2017-07-18T09:46:27.460477Z"
    }
   },
   "outputs": [
    {
     "data": {
      "text/plain": [
       "['data/python-machine-learning-book.zip',\n",
       " 'data/100days.zip',\n",
       " 'data/neuraltalk2.zip',\n",
       " 'data/digital_video_introduction.zip',\n",
       " 'data/Probabilistic-Programming-and-Bayesian-Methods-for-Hackers.zip',\n",
       " 'data/Data-Analysis-and-Machine-Learning-Projects.zip',\n",
       " 'data/TensorFlow-Book.zip',\n",
       " 'data/magenta.zip',\n",
       " 'data/tensorflow_tutorials.zip',\n",
       " 'data/self-driving-car.zip',\n",
       " 'data/PythonDataScienceHandbook.zip',\n",
       " 'data/data.zip',\n",
       " 'data/caffe2.zip',\n",
       " 'data/keras-js.zip',\n",
       " 'data/reinforcement-learning.zip',\n",
       " 'data/pydata-book.zip',\n",
       " 'data/TensorFlow-Examples.zip',\n",
       " 'data/Kalman-and-Bayesian-Filters-in-Python.zip',\n",
       " 'data/pattern_classification.zip',\n",
       " 'data/TensorFlow-Tutorials.zip']"
      ]
     },
     "execution_count": 69,
     "metadata": {},
     "output_type": "execute_result"
    }
   ],
   "source": [
    "repos = glob.glob('data/*')\n",
    "repos"
   ]
  },
  {
   "cell_type": "code",
   "execution_count": 70,
   "metadata": {
    "ExecuteTime": {
     "end_time": "2017-07-18T09:46:46.674076Z",
     "start_time": "2017-07-18T09:46:40.479768Z"
    }
   },
   "outputs": [],
   "source": [
    "df = repo_to_df(repos[0])\n",
    "py_df = df.query('extention == \"ipynb\" or extention == \"py\"')"
   ]
  },
  {
   "cell_type": "code",
   "execution_count": 71,
   "metadata": {
    "ExecuteTime": {
     "end_time": "2017-07-18T09:46:46.917294Z",
     "start_time": "2017-07-18T09:46:46.676404Z"
    }
   },
   "outputs": [
    {
     "data": {
      "text/plain": [
       "17                                       [(, sys, None)]\n",
       "18                                       [(, sys, None)]\n",
       "21     [(flask, Flask, None), (flask, render_template...\n",
       "30     [(, pandas, pd), (, numpy, np), (matplotlib.co...\n",
       "31     [(sklearn.grid_search, GridSearchCV, None), (s...\n",
       "32     [(, os, None), (, struct, None), (, numpy, np)...\n",
       "33     [(sklearn.linear_model, LogisticRegression, No...\n",
       "36     [(, numpy, np), (, numpy, np), (time, time, No...\n",
       "37     [(sklearn.grid_search, GridSearchCV, None), (s...\n",
       "39                      [(IPython.display, Image, None)]\n",
       "51                                                    []\n",
       "53     [(IPython.display, Image, None), (, numpy, np)...\n",
       "69     [(IPython.display, Image, None), (distutils.ve...\n",
       "95     [(IPython.display, Image, None), (distutils.ve...\n",
       "113    [(IPython.display, Image, None), (distutils.ve...\n",
       "134    [(IPython.display, Image, None), (distutils.ve...\n",
       "146    [(IPython.display, Image, None), (distutils.ve...\n",
       "159    [(distutils.version, LooseVersion, Version), (...\n",
       "161    [(flask, Flask, None), (flask, render_template...\n",
       "163    [(flask, Flask, None), (flask, render_template...\n",
       "169    [(IPython.display, Image, None), (, numpy, np)...\n",
       "178    [(flask, Flask, None), (flask, render_template...\n",
       "187    [(sklearn.feature_extraction.text, HashingVect...\n",
       "188    [(flask, Flask, None), (flask, render_template...\n",
       "197    [(, pickle, None), (, sqlite3, None), (, numpy...\n",
       "198    [(sklearn.feature_extraction.text, HashingVect...\n",
       "201    [(, pickle, None), (, os, None), (, re, None),...\n",
       "202    [(, pickle, None), (, re, None), (, os, None),...\n",
       "203    [(sklearn.feature_extraction.text, HashingVect...\n",
       "205    [(IPython.display, Image, None), (distutils.ve...\n",
       "221    [(IPython.display, Image, None), (sklearn.data...\n",
       "239    [(IPython.display, Image, None), (, os, None),...\n",
       "257    [(, numpy, np), (scipy.special, expit, None), ...\n",
       "258                       [(, numpy, np), (, sys, None)]\n",
       "260    [(IPython.display, Image, None), (, theano, No...\n",
       "267    [(, os, None), (, struct, None), (, numpy, np)...\n",
       "268         [(distutils.version, LooseVersion, Version)]\n",
       "288    [(, numpy, np), (, pandas, pd), (, matplotlib....\n",
       "289    [(, numpy, np), (sklearn, datasets, None), (sk...\n",
       "290    [(, pandas, pd), (, numpy, np), (io, StringIO,...\n",
       "291    [(, pandas, pd), (, numpy, np), (sklearn.prepr...\n",
       "292    [(, numpy, np), (, pandas, pd), (, matplotlib....\n",
       "293    [(, math, None), (, numpy, np), (, pandas, pd)...\n",
       "294    [(, pyprind, None), (, pandas, pd), (, os, Non...\n",
       "295                                                   []\n",
       "296    [(, pandas, pd), (, numpy, np), (, matplotlib....\n",
       "297    [(, matplotlib.pyplot, plt), (matplotlib, cm, ...\n",
       "298    [(, os, None), (, struct, None), (, numpy, np)...\n",
       "299    [(, os, None), (, theano, None), (theano, tens...\n",
       "394    [(, numpy, np), (, matplotlib.pyplot, plt), (,...\n",
       "505    [(, pandas, pd), (, numpy, np), (, matplotlib....\n",
       "Name: code, dtype: object"
      ]
     },
     "execution_count": 71,
     "metadata": {},
     "output_type": "execute_result"
    }
   ],
   "source": [
    "py_df['code'].apply(lambda code: list(extract_imports(code)))"
   ]
  }
 ],
 "metadata": {
  "kernelspec": {
   "display_name": "Python 3",
   "language": "python",
   "name": "python3"
  },
  "language_info": {
   "codemirror_mode": {
    "name": "ipython",
    "version": 3
   },
   "file_extension": ".py",
   "mimetype": "text/x-python",
   "name": "python",
   "nbconvert_exporter": "python",
   "pygments_lexer": "ipython3",
   "version": "3.5.2"
  },
  "toc": {
   "colors": {
    "hover_highlight": "#DAA520",
    "running_highlight": "#FF0000",
    "selected_highlight": "#FFD700"
   },
   "moveMenuLeft": true,
   "nav_menu": {
    "height": "4px",
    "width": "254px"
   },
   "navigate_menu": true,
   "number_sections": true,
   "sideBar": true,
   "threshold": 4,
   "toc_cell": false,
   "toc_section_display": "block",
   "toc_window_display": false,
   "widenNotebook": false
  }
 },
 "nbformat": 4,
 "nbformat_minor": 2
}
